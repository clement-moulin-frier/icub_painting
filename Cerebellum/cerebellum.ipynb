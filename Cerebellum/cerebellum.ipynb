{
 "metadata": {
  "name": "",
  "signature": "sha256:a3c238ed1342177cd98c87de685a1354c1257ebe886cf290eb0df2e4a447745b"
 },
 "nbformat": 3,
 "nbformat_minor": 0,
 "worksheets": [
  {
   "cells": [
    {
     "cell_type": "code",
     "collapsed": false,
     "input": [
      "pwd"
     ],
     "language": "python",
     "metadata": {},
     "outputs": [
      {
       "metadata": {},
       "output_type": "pyout",
       "prompt_number": 1,
       "text": [
        "u'/home/clement/work/SPECS/dev/icub_painting/explorer'"
       ]
      }
     ],
     "prompt_number": 1
    },
    {
     "cell_type": "code",
     "collapsed": false,
     "input": [
      "cd ../Cerebellum/\n"
     ],
     "language": "python",
     "metadata": {},
     "outputs": [
      {
       "output_type": "stream",
       "stream": "stdout",
       "text": [
        "/home/clement/work/SPECS/dev/icub_painting/Cerebellum\n"
       ]
      }
     ],
     "prompt_number": 2
    },
    {
     "cell_type": "code",
     "collapsed": false,
     "input": [
      "from cerebExplore import cerebellumInstance"
     ],
     "language": "python",
     "metadata": {},
     "outputs": [],
     "prompt_number": 3
    },
    {
     "cell_type": "code",
     "collapsed": false,
     "input": [
      "cer = cerebellumInstance()"
     ],
     "language": "python",
     "metadata": {},
     "outputs": [
      {
       "output_type": "stream",
       "stream": "stdout",
       "text": [
        "reading config\n",
        "receiveplug\n",
        "beta 5.0\n",
        "SR 10.0\n",
        "self   <cerebellum.Cerebellum instance at 0x7fc9191c75f0>\n"
       ]
      }
     ],
     "prompt_number": 4
    },
    {
     "cell_type": "code",
     "collapsed": false,
     "input": [
      "from numpy import array\n",
      "\n",
      "CS = array([0.] * 20 + [1.] * 20 + [0.] * 20)\n",
      "US = array([0.] * 30 + [1.] * 10 + [0.] * 20)\n",
      "\n",
      "for cs, us in zip(CS, US):\n",
      "    cer.update(cs, us)"
     ],
     "language": "python",
     "metadata": {},
     "outputs": [
      {
       "output_type": "stream",
       "stream": "stdout",
       "text": [
        "0.2\n",
        "0.2\n",
        "0.2\n",
        "0.2\n",
        "0.2\n",
        "0.2\n",
        "0.2\n",
        "0.2\n",
        "0.2\n",
        "0.2\n",
        "0.2\n",
        "0.2\n",
        "0.2\n",
        "0.2\n",
        "0.2\n",
        "0.2\n",
        "0.2\n",
        "0.2\n",
        "0.2\n",
        "0.2\n",
        "0.0\n",
        "0.0\n",
        "0.0\n",
        "0.0\n",
        "0.0\n",
        "0.0\n",
        "0.0\n",
        "0.0\n",
        "0.0\n",
        "0.0\n",
        "0.0\n",
        "0.0\n",
        "0.0\n",
        "0.0\n",
        "0.0\n",
        "0.0\n",
        "0.0\n",
        "0.0\n",
        "0.0\n",
        "0.0\n",
        "0.2\n",
        "0.2\n",
        "0.2\n",
        "0.2\n",
        "0.2\n",
        "0.2\n",
        "0.2\n",
        "0.2\n",
        "0.2\n",
        "0.2\n",
        "0.2\n",
        "0.2\n",
        "0.2\n",
        "0.2\n",
        "0.2\n",
        "0.2\n",
        "0.2\n",
        "0.2\n",
        "0.2\n",
        "0.2\n"
       ]
      }
     ],
     "prompt_number": 5
    },
    {
     "cell_type": "code",
     "collapsed": false,
     "input": [
      "from numpy import max\n",
      "max?"
     ],
     "language": "python",
     "metadata": {},
     "outputs": [],
     "prompt_number": 6
    },
    {
     "cell_type": "code",
     "collapsed": false,
     "input": [
      "from numpy import append"
     ],
     "language": "python",
     "metadata": {},
     "outputs": [],
     "prompt_number": 10
    },
    {
     "cell_type": "code",
     "collapsed": false,
     "input": [
      "c = append([0, 0], [0, 0])"
     ],
     "language": "python",
     "metadata": {},
     "outputs": [],
     "prompt_number": 13
    },
    {
     "cell_type": "code",
     "collapsed": false,
     "input": [
      "c"
     ],
     "language": "python",
     "metadata": {},
     "outputs": [
      {
       "metadata": {},
       "output_type": "pyout",
       "prompt_number": 14,
       "text": [
        "array([0, 0, 0, 0])"
       ]
      }
     ],
     "prompt_number": 14
    },
    {
     "cell_type": "code",
     "collapsed": false,
     "input": [],
     "language": "python",
     "metadata": {},
     "outputs": []
    }
   ],
   "metadata": {}
  }
 ]
}