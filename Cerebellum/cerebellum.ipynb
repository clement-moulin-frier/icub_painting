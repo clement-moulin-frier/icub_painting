{
 "metadata": {
  "name": "",
  "signature": "sha256:a3c238ed1342177cd98c87de685a1354c1257ebe886cf290eb0df2e4a447745b"
 },
 "nbformat": 3,
 "nbformat_minor": 0,
 "worksheets": [
  {
   "cells": [
    {
     "cell_type": "code",
     "collapsed": false,
     "input": [
      "pwd"
     ],
     "language": "python",
     "metadata": {},
     "outputs": [
      {
       "metadata": {},
       "output_type": "pyout",
       "prompt_number": 39,
       "text": [
        "u'/home/icub/robotology/pythonTests/icub_painting/Cerebellum'"
       ]
      }
     ],
     "prompt_number": 39
    },
    {
     "cell_type": "code",
     "collapsed": false,
     "input": [
      "#cd ../Cerebellum/\n"
     ],
     "language": "python",
     "metadata": {},
     "outputs": [],
     "prompt_number": 1
    },
    {
     "cell_type": "code",
     "collapsed": false,
     "input": [
      "from numpy import array\n",
      "from cerebExplore import cerebellumInstance\n",
      "%matplotlib inline\n",
      "import matplotlib\n",
      "import matplotlib.pyplot as plt"
     ],
     "language": "python",
     "metadata": {},
     "outputs": [],
     "prompt_number": 2
    },
    {
     "cell_type": "code",
     "collapsed": false,
     "input": [],
     "language": "python",
     "metadata": {},
     "outputs": [],
     "prompt_number": 2
    },
    {
     "cell_type": "code",
     "collapsed": false,
     "input": [
      "cer = cerebellumInstance(CS_size=1,k_NOI=1.0, nBasis=50,LR=50,delay=0.1,SR=100,update=200)\n",
      "n_trials=50\n",
      "CS = array(n_trials * ([1.] * 100 + [0.] * 50 + [1.] * 50))\n",
      "US = array(n_trials * ([0.] * 125 + [1.] * 25 + [0.] * 50))\n",
      "\n",
      "for t in [1]:\n",
      "    for cs, us in zip(CS, US):\n",
      "        #print cs, us\n",
      "        cer.update(cs, us)"
     ],
     "language": "python",
     "metadata": {},
     "outputs": [
      {
       "output_type": "stream",
       "stream": "stdout",
       "text": [
        "reading config\n",
        "receiveplug\n",
        "beta 50\n",
        "SR 100\n",
        "self   <cerebellum.Cerebellum instance at 0x7fa71cae9c20>\n",
        "-1981411.38634\n",
        "1145766.38655\n",
        "1166840.20965"
       ]
      },
      {
       "output_type": "stream",
       "stream": "stdout",
       "text": [
        "\n",
        "911724.743018\n",
        "734401.657212\n",
        "623304.364613"
       ]
      },
      {
       "output_type": "stream",
       "stream": "stdout",
       "text": [
        "\n",
        "561943.797069\n",
        "521687.859887\n",
        "494912.162938\n",
        "478508.383683"
       ]
      },
      {
       "output_type": "stream",
       "stream": "stdout",
       "text": [
        "\n",
        "473480.980644\n",
        "465017.809536\n",
        "463988.587991\n",
        "463926.591972"
       ]
      },
      {
       "output_type": "stream",
       "stream": "stdout",
       "text": [
        "\n",
        "458882.194544\n",
        "449582.487769\n",
        "442453.265533\n",
        "436162.077694"
       ]
      },
      {
       "output_type": "stream",
       "stream": "stdout",
       "text": [
        "\n",
        "438714.505527\n",
        "440221.631639\n",
        "444267.295742\n",
        "452238.997297"
       ]
      },
      {
       "output_type": "stream",
       "stream": "stdout",
       "text": [
        "\n",
        "458565.02275\n",
        "460777.329769\n",
        "460188.370134\n",
        "463635.886669"
       ]
      },
      {
       "output_type": "stream",
       "stream": "stdout",
       "text": [
        "\n",
        "470224.114667\n",
        "476271.187236\n",
        "486505.419394\n",
        "495022.667661"
       ]
      },
      {
       "output_type": "stream",
       "stream": "stdout",
       "text": [
        "\n",
        "500685.133826\n",
        "504259.055462\n",
        "506311.317093\n",
        "507255.542714"
       ]
      },
      {
       "output_type": "stream",
       "stream": "stdout",
       "text": [
        "\n",
        "507393.522535\n",
        "506945.442983\n",
        "506071.945922\n",
        "504890.225395"
       ]
      },
      {
       "output_type": "stream",
       "stream": "stdout",
       "text": [
        "\n",
        "503485.773404\n",
        "501920.950696\n",
        "501188.723143\n",
        "504058.924874"
       ]
      },
      {
       "output_type": "stream",
       "stream": "stdout",
       "text": [
        "\n",
        "505852.210918\n",
        "506835.968865\n",
        "507216.367936\n",
        "507147.347307"
       ]
      },
      {
       "output_type": "stream",
       "stream": "stdout",
       "text": [
        "\n",
        "506743.845501\n",
        "506091.679175\n",
        "505254.919826\n"
       ]
      }
     ],
     "prompt_number": 3
    },
    {
     "cell_type": "code",
     "collapsed": false,
     "input": [
      "plt.plot(cer.CRB_V_CR)\n",
      "#plt.plot(US ,'r-')\n",
      "#plt.plot(1-CS ,'g-')\n",
      "\n",
      "#plt.ylim(ymax=0.1)\n",
      "plt.show()\n"
     ],
     "language": "python",
     "metadata": {},
     "outputs": [
      {
       "metadata": {},
       "output_type": "display_data",
       "png": "[encoded data removed]",
       "text": [
        "<matplotlib.figure.Figure at 0x7fa71ca8a210>"
       ]
      }
     ],
     "prompt_number": 4
    },
    {
     "cell_type": "code",
     "collapsed": false,
     "input": [
      "from numpy import append"
     ],
     "language": "python",
     "metadata": {},
     "outputs": [],
     "prompt_number": 5
    },
    {
     "cell_type": "code",
     "collapsed": false,
     "input": [
      "c = append([0, 0], [0, 0])"
     ],
     "language": "python",
     "metadata": {},
     "outputs": [],
     "prompt_number": 6
    },
    {
     "cell_type": "code",
     "collapsed": false,
     "input": [
      "c"
     ],
     "language": "python",
     "metadata": {},
     "outputs": [
      {
       "metadata": {},
       "output_type": "pyout",
       "prompt_number": 7,
       "text": [
        "array([0, 0, 0, 0])"
       ]
      }
     ],
     "prompt_number": 7
    },
    {
     "cell_type": "code",
     "collapsed": false,
     "input": [],
     "language": "python",
     "metadata": {},
     "outputs": []
    }
   ],
   "metadata": {}
  }
 ]
}