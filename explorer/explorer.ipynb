{
 "metadata": {
  "name": "",
  "signature": "sha256:3a8e425c0647a7f68ea8b49c5e7a8e332410630447affa1c2ca61cab2bcdc252"
 },
 "nbformat": 3,
 "nbformat_minor": 0,
 "worksheets": [
  {
   "cells": [
    {
     "cell_type": "code",
     "collapsed": false,
     "input": [
      "import sys\n",
      "sys.path.append('.')\n",
      "from explorer import Explorer"
     ],
     "language": "python",
     "metadata": {},
     "outputs": [],
     "prompt_number": 1
    },
    {
     "cell_type": "code",
     "collapsed": false,
     "input": [
      "# Create an Explorer instance:\n",
      "expl = Explorer()\n",
      "\n",
      "# The first target has no negative feedback\n",
      "neg_feedback = False"
     ],
     "language": "python",
     "metadata": {},
     "outputs": [],
     "prompt_number": 2
    },
    {
     "cell_type": "code",
     "collapsed": false,
     "input": [
      "%pylab\n",
      "\n",
      "from numpy import arange, pi\n",
      "from numpy.linalg import norm \n",
      "\n",
      "# Sample 100 targets with negative feedback whenever outside of the unit circle\n",
      "for _ in range(100):\n",
      "    \n",
      "    # Sample a new target\n",
      "    expl.sample(neg_feedback)\n",
      "    \n",
      "    if norm(expl.current_pos) > 1:\n",
      "        # outside the unit circle\n",
      "        neg_feedback = True\n",
      "    else:\n",
      "        # inside the unit circle\n",
      "        neg_feedback = False\n",
      "    # plot the line from the previous target to the new one\n",
      "    plot([expl.previous_pos[0], expl.current_pos[0]], [expl.previous_pos[1], expl.current_pos[1]], 'b', lw=8)\n",
      "\n",
      "# plot the unit circle\n",
      "for r in arange(0, 2 * pi, 0.01):\n",
      "    pos = e ** (1j * r)\n",
      "    plot(real(pos), imag(pos), 'ob')"
     ],
     "language": "python",
     "metadata": {},
     "outputs": [
      {
       "output_type": "stream",
       "stream": "stdout",
       "text": [
        "Using matplotlib backend: TkAgg\n",
        "Populating the interactive namespace from numpy and matplotlib\n"
       ]
      }
     ],
     "prompt_number": 3
    },
    {
     "cell_type": "code",
     "collapsed": false,
     "input": [
      "arange?"
     ],
     "language": "python",
     "metadata": {},
     "outputs": [],
     "prompt_number": 38
    },
    {
     "cell_type": "code",
     "collapsed": false,
     "input": [
      "expl.current_pos"
     ],
     "language": "python",
     "metadata": {},
     "outputs": [
      {
       "metadata": {},
       "output_type": "pyout",
       "prompt_number": 10,
       "text": [
        "array([-2.43316621, -0.91601356])"
       ]
      }
     ],
     "prompt_number": 10
    },
    {
     "cell_type": "code",
     "collapsed": false,
     "input": [
      "expl.sample()"
     ],
     "language": "python",
     "metadata": {},
     "outputs": [
      {
       "metadata": {},
       "output_type": "pyout",
       "prompt_number": 12,
       "text": [
        "array([-2.41479951, -0.95387922])"
       ]
      }
     ],
     "prompt_number": 12
    },
    {
     "cell_type": "code",
     "collapsed": false,
     "input": [
      "?plot"
     ],
     "language": "python",
     "metadata": {},
     "outputs": [],
     "prompt_number": 15
    },
    {
     "cell_type": "code",
     "collapsed": false,
     "input": [],
     "language": "python",
     "metadata": {},
     "outputs": []
    }
   ],
   "metadata": {}
  }
 ]
}